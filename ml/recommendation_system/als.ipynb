{
 "cells": [
  {
   "cell_type": "code",
   "execution_count": null,
   "outputs": [],
   "source": [
    "from typing import List\n",
    "\n",
    "import numpy as np\n",
    "\n",
    "# ref: https://sungkee-book.tistory.com/13\n"
   ],
   "metadata": {
    "collapsed": false
   },
   "id": "970d8e450ef945b8"
  },
  {
   "cell_type": "code",
   "execution_count": null,
   "outputs": [],
   "source": [
    "\n",
    "def rss(y_true: List[int], y_pred: List[int]):\n",
    "    rss = sum((true - pred) ** 2 for true, pred in zip(y_true, y_pred))\n",
    "    return rss \n",
    "\n",
    "def rss_np(y_true, y_pred):\n",
    "    \"\"\"\n",
    "    Why doesn't have support for numpy.typing.NDArray?\n",
    "    :param y_true: \n",
    "    :param y_pred: \n",
    "    :return: \n",
    "    \"\"\"\n",
    "    residuals = y_true - y_pred \n",
    "    rss = np.sum(residuals ** 2)\n",
    "    return rss "
   ],
   "metadata": {
    "collapsed": false
   },
   "id": "2f6c6b2b2518d505"
  },
  {
   "cell_type": "code",
   "execution_count": null,
   "outputs": [],
   "source": [],
   "metadata": {
    "collapsed": false
   },
   "id": "ff5030d1732cf0f9"
  },
  {
   "cell_type": "code",
   "execution_count": 0,
   "outputs": [],
   "source": [
    "\n",
    "\n",
    "def als_without_numpy(R, K, max_iter=10, lambda_=0.1):\n",
    "    # R: 사용자-아이템 평가 행렬\n",
    "    # K: 잠재 요인의 수\n",
    "    # max_iter: 최대 반복 횟수\n",
    "    # lambda_: 정규화 파라미터\n",
    "\n",
    "    m, n = len(R), len(R[0])\n",
    "    X = [[0.5 for _ in range(K)] for _ in range(m)]\n",
    "    Y = [[0.5 for _ in range(K)] for _ in range(n)]\n",
    "\n",
    "    def product(X, Y):\n",
    "        result = [[sum(x * y for x, y in zip(X_row, Y_col)) for Y_col in zip(*Y)] for X_row in X]\n",
    "        return result\n",
    "\n",
    "    for iteration in range(max_iter):\n",
    "        # X 고정, Y 최적화\n",
    "        for i in range(m):\n",
    "            for k in range(K):\n",
    "                numerator = sum(R[i][j] * Y[j][k] for j in range(n))\n",
    "                denominator = lambda_ + sum(Y[j][k] ** 2 for j in range(n))\n",
    "                X[i][k] = numerator / denominator\n",
    "\n",
    "        # Y 고정, X 최적화\n",
    "        for j in range(n):\n",
    "            for k in range(K):\n",
    "                numerator = sum(R[i][j] * X[i][k] for i in range(m))\n",
    "                denominator = lambda_ + sum(X[i][k] ** 2 for i in range(m))\n",
    "                Y[j][k] = numerator / denominator\n",
    "\n",
    "    return product(X, Y)\n",
    "\n",
    "# 예제 데이터\n",
    "R = [\n",
    "    [5, 3, 0, 1],\n",
    "    [4, 0, 0, 1],\n",
    "    [1, 1, 0, 5],\n",
    "    [1, 0, 0, 4],\n",
    "    [0, 1, 5, 4],\n",
    "]\n",
    "\n",
    "# ALS 실행\n",
    "K = 2\n",
    "approx_R = als_without_numpy(R, K)\n",
    "\n",
    "for row in approx_R:\n",
    "    print(row)\n"
   ],
   "metadata": {
    "collapsed": false
   },
   "id": "994e384e82a85d75"
  },
  {
   "cell_type": "code",
   "execution_count": 5,
   "outputs": [
    {
     "name": "stdout",
     "output_type": "stream",
     "text": [
      "[[ 5.10563127  1.8964268  -0.71398157  1.55937345]\n",
      " [ 3.41419075  1.27426338 -0.45139675  1.08816549]\n",
      " [ 1.54374068  1.04013781  1.77658274  3.94356916]\n",
      " [ 1.17234583  0.79988955  1.39181411  3.06913192]\n",
      " [-0.44141961  0.54210469  3.07588545  5.11766672]]\n"
     ]
    }
   ],
   "source": [
    "import numpy as np\n",
    "\n",
    "def als_with_numpy(R, K, max_iter=10, lambda_=0.1):\n",
    "    m, n = R.shape\n",
    "    X = np.random.rand(m, K)\n",
    "    Y = np.random.rand(n, K)\n",
    "\n",
    "    for iteration in range(max_iter):\n",
    "        # X 고정, Y 최적화\n",
    "        for i in range(m):\n",
    "            # np.linalg.solve(A, B): A * x = B를 만족하는 x\n",
    "            # np.eye(K): K x K 단위 행렬(identity matrix)을 생성\n",
    "            # np.dot(Y.T, Y) : K x K\n",
    "            X[i] = np.linalg.solve(np.dot(Y.T, Y) + lambda_ * np.eye(K), \n",
    "                                   np.dot(Y.T, R[i]))\n",
    "\n",
    "        # Y 고정, X 최적화\n",
    "        for j in range(n):\n",
    "            Y[j] = np.linalg.solve(np.dot(X.T, X) + lambda_ * np.eye(K), \n",
    "                                   np.dot(X.T, R[:, j]))\n",
    "\n",
    "    return np.dot(X, Y.T) # m x n\n",
    "\n",
    "# 예제 데이터\n",
    "R = np.array([\n",
    "    [5, 3, 0, 1],\n",
    "    [4, 0, 0, 1],\n",
    "    [1, 1, 0, 5],\n",
    "    [1, 0, 0, 4],\n",
    "    [0, 1, 5, 4],\n",
    "])\n",
    "\n",
    "# ALS 실행\n",
    "K = 2\n",
    "approx_R = als_with_numpy(R, K)\n",
    "\n",
    "print(approx_R)\n",
    "\n"
   ],
   "metadata": {
    "collapsed": false,
    "ExecuteTime": {
     "end_time": "2023-11-27T19:56:37.332030Z",
     "start_time": "2023-11-27T19:56:36.294584Z"
    }
   },
   "id": "initial_id"
  },
  {
   "cell_type": "code",
   "execution_count": null,
   "outputs": [],
   "source": [],
   "metadata": {
    "collapsed": false
   },
   "id": "165970b882f58f9e"
  }
 ],
 "metadata": {
  "kernelspec": {
   "display_name": "Python 3",
   "language": "python",
   "name": "python3"
  },
  "language_info": {
   "codemirror_mode": {
    "name": "ipython",
    "version": 2
   },
   "file_extension": ".py",
   "mimetype": "text/x-python",
   "name": "python",
   "nbconvert_exporter": "python",
   "pygments_lexer": "ipython2",
   "version": "2.7.6"
  }
 },
 "nbformat": 4,
 "nbformat_minor": 5
}
