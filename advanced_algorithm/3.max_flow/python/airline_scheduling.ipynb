{
 "cells": [
  {
   "cell_type": "code",
   "execution_count": 0,
   "id": "3e1840434f4f49be",
   "metadata": {
    "collapsed": true
   },
   "outputs": [],
   "source": [
    "\n",
    "import networkx as nx\n",
    "\n",
    "\n"
   ]
  },
  {
   "cell_type": "code",
   "execution_count": 0,
   "outputs": [],
   "source": [
    "import networkx as nx\n",
    "\n",
    "# airport\n",
    "# departure time, arrival time\n",
    "# flight name\n",
    "#\n"
   ],
   "metadata": {
    "collapsed": false
   },
   "id": "81cc31deb023c6c2"
  },
  {
   "cell_type": "code",
   "execution_count": 0,
   "outputs": [],
   "source": [
    "\n",
    "\n",
    "# 휴리스틱 방법이나 고급 최적화 기법\n"
   ],
   "metadata": {
    "collapsed": false
   },
   "id": "64854d96ee5f6d2d"
  },
  {
   "cell_type": "code",
   "execution_count": 2,
   "outputs": [],
   "source": [
    "\n",
    "# hadoop, spark 활용??\n"
   ],
   "metadata": {
    "collapsed": false,
    "ExecuteTime": {
     "start_time": "2023-11-27T20:20:21.598910Z"
    }
   },
   "id": "initial_id"
  },
  {
   "cell_type": "code",
   "execution_count": null,
   "outputs": [],
   "source": [
    "\n",
    "# neo4j 데이터베이스로 저장?\n"
   ],
   "metadata": {
    "collapsed": false
   },
   "id": "612093137f0b8b1e"
  }
 ],
 "metadata": {
  "kernelspec": {
   "display_name": "Python 3",
   "language": "python",
   "name": "python3"
  },
  "language_info": {
   "codemirror_mode": {
    "name": "ipython",
    "version": 2
   },
   "file_extension": ".py",
   "mimetype": "text/x-python",
   "name": "python",
   "nbconvert_exporter": "python",
   "pygments_lexer": "ipython2",
   "version": "2.7.6"
  }
 },
 "nbformat": 4,
 "nbformat_minor": 5
}
